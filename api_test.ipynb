{
 "cells": [
  {
   "cell_type": "markdown",
   "id": "a547feed-6b95-4aee-af22-dd9e46747179",
   "metadata": {},
   "source": [
    "# DEMO model API"
   ]
  },
  {
   "cell_type": "code",
   "execution_count": 1,
   "id": "06887d7a-d250-406f-8355-06384f6e7994",
   "metadata": {
    "execution": {
     "iopub.execute_input": "2022-10-28T20:07:03.187333Z",
     "iopub.status.busy": "2022-10-28T20:07:03.186869Z",
     "iopub.status.idle": "2022-10-28T20:07:03.862193Z",
     "shell.execute_reply": "2022-10-28T20:07:03.861587Z",
     "shell.execute_reply.started": "2022-10-28T20:07:03.187275Z"
    },
    "tags": []
   },
   "outputs": [],
   "source": [
    "import pandas as pd\n",
    "import requests\n",
    "from sklearn.datasets import make_classification, make_regression"
   ]
  },
  {
   "cell_type": "markdown",
   "id": "cec3f6ca-2576-493a-9417-230397489193",
   "metadata": {},
   "source": [
    "## GET model_list"
   ]
  },
  {
   "cell_type": "code",
   "execution_count": 2,
   "id": "0de654ef-2db5-402d-814e-984c410ae590",
   "metadata": {
    "execution": {
     "iopub.execute_input": "2022-10-28T20:07:03.864220Z",
     "iopub.status.busy": "2022-10-28T20:07:03.863595Z",
     "iopub.status.idle": "2022-10-28T20:07:03.877032Z",
     "shell.execute_reply": "2022-10-28T20:07:03.876518Z",
     "shell.execute_reply.started": "2022-10-28T20:07:03.864199Z"
    },
    "tags": []
   },
   "outputs": [
    {
     "name": "stdout",
     "output_type": "stream",
     "text": [
      "<Response [200]>\n"
     ]
    },
    {
     "data": {
      "text/plain": [
       "{'types': ['catboost_classifier', 'catboost_regressor']}"
      ]
     },
     "execution_count": 2,
     "metadata": {},
     "output_type": "execute_result"
    }
   ],
   "source": [
    "r = requests.get(\n",
    "    \"http://localhost:8866/model_list\",\n",
    ")\n",
    "print(r)\n",
    "r.json()"
   ]
  },
  {
   "cell_type": "markdown",
   "id": "7a31a86b-952d-484e-99f2-6d47097fb094",
   "metadata": {},
   "source": [
    "## POST model"
   ]
  },
  {
   "cell_type": "code",
   "execution_count": 3,
   "id": "eddd78e0-4ba7-4982-a0f2-8b9fc21e41b2",
   "metadata": {
    "execution": {
     "iopub.execute_input": "2022-10-28T20:07:03.878093Z",
     "iopub.status.busy": "2022-10-28T20:07:03.877748Z",
     "iopub.status.idle": "2022-10-28T20:07:04.636175Z",
     "shell.execute_reply": "2022-10-28T20:07:04.635596Z",
     "shell.execute_reply.started": "2022-10-28T20:07:03.878074Z"
    },
    "tags": []
   },
   "outputs": [
    {
     "name": "stdout",
     "output_type": "stream",
     "text": [
      "<Response [200]>\n"
     ]
    },
    {
     "data": {
      "text/plain": [
       "{'model_name': '4b4fa7c7-0ae2-469b-93bf-c22938f0804f'}"
      ]
     },
     "execution_count": 3,
     "metadata": {},
     "output_type": "execute_result"
    }
   ],
   "source": [
    "X, y = make_classification(n_samples=10_000, random_state=42)\n",
    "\n",
    "r = requests.post(\n",
    "    \"http://localhost:8866/model\",\n",
    "    json={\n",
    "        \"data\": pd.DataFrame(X).to_dict(\"records\"),\n",
    "        \"target\": list([int(x) for x in y]),\n",
    "        \"model_type\": \"catboost_classifier\",\n",
    "        \"params\": {\"iterations\": 100, \"max_depth\": 3, \"random_state\": 42},\n",
    "    },\n",
    ")\n",
    "print(r)\n",
    "r.json()"
   ]
  },
  {
   "cell_type": "code",
   "execution_count": 4,
   "id": "7941f9a5-11a4-4d6a-95f5-54f360fdf593",
   "metadata": {
    "execution": {
     "iopub.execute_input": "2022-10-28T20:07:04.637363Z",
     "iopub.status.busy": "2022-10-28T20:07:04.636961Z",
     "iopub.status.idle": "2022-10-28T20:07:04.640096Z",
     "shell.execute_reply": "2022-10-28T20:07:04.639589Z",
     "shell.execute_reply.started": "2022-10-28T20:07:04.637344Z"
    },
    "tags": []
   },
   "outputs": [],
   "source": [
    "model_name_clf = r.json()['model_name']"
   ]
  },
  {
   "cell_type": "markdown",
   "id": "69d95b1e-f9b2-4962-ad1f-38b1c7d132e5",
   "metadata": {},
   "source": [
    "## GET model"
   ]
  },
  {
   "cell_type": "code",
   "execution_count": 5,
   "id": "5e95ba14-60bf-4257-9b72-ecee2addeae6",
   "metadata": {
    "execution": {
     "iopub.execute_input": "2022-10-28T20:07:04.641135Z",
     "iopub.status.busy": "2022-10-28T20:07:04.640800Z",
     "iopub.status.idle": "2022-10-28T20:07:04.680163Z",
     "shell.execute_reply": "2022-10-28T20:07:04.679553Z",
     "shell.execute_reply.started": "2022-10-28T20:07:04.641117Z"
    },
    "tags": []
   },
   "outputs": [
    {
     "name": "stdout",
     "output_type": "stream",
     "text": [
      "<Response [200]>\n"
     ]
    },
    {
     "data": {
      "text/plain": [
       "{'predict': [0.5638337834555013,\n",
       "  0.7942055810014027,\n",
       "  0.8756234070657894,\n",
       "  0.010590774615283504,\n",
       "  0.957467896504792,\n",
       "  0.8979103310563701,\n",
       "  0.9204750053600032,\n",
       "  0.11278030491557361,\n",
       "  0.8916455404417145,\n",
       "  0.9871980350210195]}"
      ]
     },
     "execution_count": 5,
     "metadata": {},
     "output_type": "execute_result"
    }
   ],
   "source": [
    "r = requests.get(\n",
    "    \"http://localhost:8866/model\",\n",
    "    json={\n",
    "        \"data\": pd.DataFrame(X).head(10).to_dict(\"records\"),\n",
    "        \"model_name\": model_name_clf,\n",
    "    },\n",
    ")\n",
    "print(r)\n",
    "r.json()"
   ]
  },
  {
   "cell_type": "markdown",
   "id": "1c8d0597-fffe-4c0f-b16c-4f17fed6c725",
   "metadata": {},
   "source": [
    "## POST model_retrain"
   ]
  },
  {
   "cell_type": "code",
   "execution_count": 6,
   "id": "4821db6c-113e-48cd-9649-266550d1db7e",
   "metadata": {
    "execution": {
     "iopub.execute_input": "2022-10-28T20:07:04.681267Z",
     "iopub.status.busy": "2022-10-28T20:07:04.680938Z",
     "iopub.status.idle": "2022-10-28T20:07:05.131515Z",
     "shell.execute_reply": "2022-10-28T20:07:05.130876Z",
     "shell.execute_reply.started": "2022-10-28T20:07:04.681249Z"
    },
    "tags": []
   },
   "outputs": [
    {
     "name": "stdout",
     "output_type": "stream",
     "text": [
      "<Response [200]>\n"
     ]
    },
    {
     "data": {
      "text/plain": [
       "{'model_name': '9db7e687-7aaa-4106-b2c4-4049d890c612'}"
      ]
     },
     "execution_count": 6,
     "metadata": {},
     "output_type": "execute_result"
    }
   ],
   "source": [
    "X, y = make_classification(n_samples=5_000, random_state=43)\n",
    "\n",
    "\n",
    "r = requests.post(\n",
    "    \"http://localhost:8866/model_retrain\",\n",
    "    json={\n",
    "        \"data\": pd.DataFrame(X).to_dict(\"records\"),\n",
    "        \"target\": list([int(x) for x in y]),\n",
    "        \"model_name\": model_name_clf,\n",
    "    },\n",
    ")\n",
    "print(r)\n",
    "r.json()"
   ]
  },
  {
   "cell_type": "markdown",
   "id": "89e17c99-12ea-459f-9785-ccc3ffc5eff3",
   "metadata": {},
   "source": [
    "## GET model"
   ]
  },
  {
   "cell_type": "code",
   "execution_count": 7,
   "id": "021e73fd-21a5-4ada-ac59-797f937922e3",
   "metadata": {
    "execution": {
     "iopub.execute_input": "2022-10-28T20:07:05.133808Z",
     "iopub.status.busy": "2022-10-28T20:07:05.133398Z",
     "iopub.status.idle": "2022-10-28T20:07:05.147801Z",
     "shell.execute_reply": "2022-10-28T20:07:05.147240Z",
     "shell.execute_reply.started": "2022-10-28T20:07:05.133787Z"
    },
    "tags": []
   },
   "outputs": [
    {
     "name": "stdout",
     "output_type": "stream",
     "text": [
      "<Response [200]>\n"
     ]
    },
    {
     "data": {
      "text/plain": [
       "{'predict': [0.0074069885804417465,\n",
       "  0.9902074972312818,\n",
       "  0.9865085968106112,\n",
       "  0.5125241196563936,\n",
       "  0.024061459554407576,\n",
       "  0.01155327665721344,\n",
       "  0.007397251107158578,\n",
       "  0.4869501346169755,\n",
       "  0.993289625687321,\n",
       "  0.9918183725446968]}"
      ]
     },
     "execution_count": 7,
     "metadata": {},
     "output_type": "execute_result"
    }
   ],
   "source": [
    "r = requests.get(\n",
    "    \"http://localhost:8866/model\",\n",
    "    json={\n",
    "        \"data\": pd.DataFrame(X).head(10).to_dict(\"records\"),\n",
    "        \"model_name\": r.json()['model_name'],\n",
    "    },\n",
    ")\n",
    "print(r)\n",
    "r.json()"
   ]
  },
  {
   "cell_type": "markdown",
   "id": "4ab4e818-2387-4e2d-8a4d-ffcdf79d921e",
   "metadata": {},
   "source": [
    "## POST model for catboost_regressor"
   ]
  },
  {
   "cell_type": "code",
   "execution_count": 8,
   "id": "843a31eb-90f6-46ef-bdb6-25ffaa8ea4e5",
   "metadata": {
    "execution": {
     "iopub.execute_input": "2022-10-28T20:07:05.148970Z",
     "iopub.status.busy": "2022-10-28T20:07:05.148557Z",
     "iopub.status.idle": "2022-10-28T20:07:06.281195Z",
     "shell.execute_reply": "2022-10-28T20:07:06.280614Z",
     "shell.execute_reply.started": "2022-10-28T20:07:05.148951Z"
    },
    "tags": []
   },
   "outputs": [
    {
     "name": "stdout",
     "output_type": "stream",
     "text": [
      "<Response [200]>\n"
     ]
    },
    {
     "data": {
      "text/plain": [
       "{'model_name': '03c93e12-2397-4a11-9063-5f4711121677'}"
      ]
     },
     "execution_count": 8,
     "metadata": {},
     "output_type": "execute_result"
    }
   ],
   "source": [
    "X, y = make_regression(n_samples=5_000, random_state=42)\n",
    "\n",
    "\n",
    "r = requests.post(\n",
    "    \"http://localhost:8866/model\",\n",
    "    json={\n",
    "        \"data\": pd.DataFrame(X).to_dict(\"records\"),\n",
    "        \"target\": list(y),\n",
    "        \"model_type\": \"catboost_regressor\",\n",
    "        \"params\": {\"iterations\": 100, \"max_depth\": 3, \"random_state\": 42},\n",
    "    },\n",
    ")\n",
    "print(r)\n",
    "r.json()"
   ]
  },
  {
   "cell_type": "markdown",
   "id": "4667d6b6-cfcd-4465-976a-8b0ecc59f833",
   "metadata": {},
   "source": [
    "## GET model"
   ]
  },
  {
   "cell_type": "code",
   "execution_count": 9,
   "id": "79ca21df-85da-40a7-b725-607293cf22af",
   "metadata": {
    "execution": {
     "iopub.execute_input": "2022-10-28T20:07:06.282418Z",
     "iopub.status.busy": "2022-10-28T20:07:06.281983Z",
     "iopub.status.idle": "2022-10-28T20:07:06.309627Z",
     "shell.execute_reply": "2022-10-28T20:07:06.309124Z",
     "shell.execute_reply.started": "2022-10-28T20:07:06.282397Z"
    },
    "tags": []
   },
   "outputs": [
    {
     "name": "stdout",
     "output_type": "stream",
     "text": [
      "<Response [200]>\n"
     ]
    },
    {
     "data": {
      "text/plain": [
       "{'predict': [-142.06786398305186,\n",
       "  -49.289922812160306,\n",
       "  -346.27782463449324,\n",
       "  -40.64367662731922,\n",
       "  195.41391581749133,\n",
       "  42.31481775721362,\n",
       "  152.01133779221294,\n",
       "  148.03790039153625,\n",
       "  154.25315992034916,\n",
       "  -106.3438026762773]}"
      ]
     },
     "execution_count": 9,
     "metadata": {},
     "output_type": "execute_result"
    }
   ],
   "source": [
    "r = requests.get(\n",
    "    \"http://localhost:8866/model\",\n",
    "    json={\n",
    "        \"data\": pd.DataFrame(X).head(10).to_dict(\"records\"),\n",
    "        \"model_name\": r.json()['model_name'],\n",
    "    },\n",
    ")\n",
    "print(r)\n",
    "r.json()"
   ]
  },
  {
   "cell_type": "markdown",
   "id": "5ec06aa4-86f6-44c5-8973-96c2dfe2c95e",
   "metadata": {},
   "source": [
    "## GET model_instances"
   ]
  },
  {
   "cell_type": "code",
   "execution_count": 10,
   "id": "78f3955b-79e2-4b06-9156-b8c5986b0788",
   "metadata": {
    "execution": {
     "iopub.execute_input": "2022-10-28T20:07:06.310804Z",
     "iopub.status.busy": "2022-10-28T20:07:06.310397Z",
     "iopub.status.idle": "2022-10-28T20:07:06.318729Z",
     "shell.execute_reply": "2022-10-28T20:07:06.318128Z",
     "shell.execute_reply.started": "2022-10-28T20:07:06.310785Z"
    },
    "tags": []
   },
   "outputs": [
    {
     "name": "stdout",
     "output_type": "stream",
     "text": [
      "<Response [200]>\n"
     ]
    },
    {
     "data": {
      "text/plain": [
       "{'instances': [{'id': '4b4fa7c7-0ae2-469b-93bf-c22938f0804f',\n",
       "   'type': 'catboost_classifier',\n",
       "   'params': \"{'iterations': 100, 'max_depth': 3, 'random_state': 42}\"},\n",
       "  {'id': '9db7e687-7aaa-4106-b2c4-4049d890c612',\n",
       "   'type': 'catboost_classifier',\n",
       "   'params': \"{'iterations': 100, 'max_depth': 3, 'random_state': 42}\"},\n",
       "  {'id': '03c93e12-2397-4a11-9063-5f4711121677',\n",
       "   'type': 'catboost_regressor',\n",
       "   'params': \"{'iterations': 100, 'max_depth': 3, 'random_state': 42}\"}]}"
      ]
     },
     "execution_count": 10,
     "metadata": {},
     "output_type": "execute_result"
    }
   ],
   "source": [
    "r = requests.get(\n",
    "    \"http://localhost:8866/model_instances\",\n",
    ")\n",
    "print(r)\n",
    "r.json()"
   ]
  },
  {
   "cell_type": "markdown",
   "id": "bef289d2-8b48-4e68-a82b-75c1fa696efd",
   "metadata": {},
   "source": [
    "## DELETE model"
   ]
  },
  {
   "cell_type": "code",
   "execution_count": 11,
   "id": "a01aa42b-b542-44b0-9770-6216a7c29880",
   "metadata": {
    "execution": {
     "iopub.execute_input": "2022-10-28T20:07:06.319785Z",
     "iopub.status.busy": "2022-10-28T20:07:06.319430Z",
     "iopub.status.idle": "2022-10-28T20:07:06.329940Z",
     "shell.execute_reply": "2022-10-28T20:07:06.329414Z",
     "shell.execute_reply.started": "2022-10-28T20:07:06.319767Z"
    },
    "tags": []
   },
   "outputs": [
    {
     "name": "stdout",
     "output_type": "stream",
     "text": [
      "<Response [204]>\n",
      "b''\n"
     ]
    }
   ],
   "source": [
    "r = requests.delete(\n",
    "    \"http://localhost:8866/model\",\n",
    "    json={\n",
    "        \"model_name\": model_name_clf,\n",
    "    },\n",
    ")\n",
    "print(r)\n",
    "print(r.content)"
   ]
  },
  {
   "cell_type": "markdown",
   "id": "e3e7df98-2f11-4a9d-936e-67c1a81d7bf4",
   "metadata": {},
   "source": [
    "## GET model_instances"
   ]
  },
  {
   "cell_type": "code",
   "execution_count": 12,
   "id": "34c09960-9b85-41eb-98ae-ee3a664ffd8b",
   "metadata": {
    "execution": {
     "iopub.execute_input": "2022-10-28T20:07:06.331037Z",
     "iopub.status.busy": "2022-10-28T20:07:06.330769Z",
     "iopub.status.idle": "2022-10-28T20:07:06.338170Z",
     "shell.execute_reply": "2022-10-28T20:07:06.337631Z",
     "shell.execute_reply.started": "2022-10-28T20:07:06.331019Z"
    },
    "tags": []
   },
   "outputs": [
    {
     "name": "stdout",
     "output_type": "stream",
     "text": [
      "<Response [200]>\n"
     ]
    },
    {
     "data": {
      "text/plain": [
       "{'instances': [{'id': '9db7e687-7aaa-4106-b2c4-4049d890c612',\n",
       "   'type': 'catboost_classifier',\n",
       "   'params': \"{'iterations': 100, 'max_depth': 3, 'random_state': 42}\"},\n",
       "  {'id': '03c93e12-2397-4a11-9063-5f4711121677',\n",
       "   'type': 'catboost_regressor',\n",
       "   'params': \"{'iterations': 100, 'max_depth': 3, 'random_state': 42}\"}]}"
      ]
     },
     "execution_count": 12,
     "metadata": {},
     "output_type": "execute_result"
    }
   ],
   "source": [
    "r = requests.get(\n",
    "    \"http://localhost:8866/model_instances\",\n",
    ")\n",
    "print(r)\n",
    "r.json()"
   ]
  },
  {
   "cell_type": "markdown",
   "id": "a25c11c2-2bbf-45e8-bb2c-77e17e67bc48",
   "metadata": {},
   "source": [
    "## ERROR cases"
   ]
  },
  {
   "cell_type": "code",
   "execution_count": 13,
   "id": "be6b9b57-c590-4b0a-b1d6-50b4df792be1",
   "metadata": {
    "execution": {
     "iopub.execute_input": "2022-10-28T20:07:06.339132Z",
     "iopub.status.busy": "2022-10-28T20:07:06.338865Z",
     "iopub.status.idle": "2022-10-28T20:07:06.740378Z",
     "shell.execute_reply": "2022-10-28T20:07:06.739798Z",
     "shell.execute_reply.started": "2022-10-28T20:07:06.339113Z"
    },
    "tags": []
   },
   "outputs": [
    {
     "name": "stdout",
     "output_type": "stream",
     "text": [
      "<Response [404]>\n"
     ]
    },
    {
     "data": {
      "text/plain": [
       "{'message': 'Model type not found'}"
      ]
     },
     "execution_count": 13,
     "metadata": {},
     "output_type": "execute_result"
    }
   ],
   "source": [
    "X, y = make_classification(n_samples=10_000, random_state=42)\n",
    "\n",
    "r = requests.post(\n",
    "    \"http://localhost:8866/model\",\n",
    "    json={\n",
    "        \"data\": pd.DataFrame(X).to_dict(\"records\"),\n",
    "        \"target\": list([int(x) for x in y]),\n",
    "        \"model_type\": \"asd\",\n",
    "        \"params\": {\"iterations\": 100, \"max_depth\": 3, \"random_state\": 42},\n",
    "    },\n",
    ")\n",
    "print(r)\n",
    "r.json()"
   ]
  },
  {
   "cell_type": "code",
   "execution_count": 14,
   "id": "b5fabe33-e06c-465d-a3f1-bf2022e33b77",
   "metadata": {
    "execution": {
     "iopub.execute_input": "2022-10-28T20:07:06.741592Z",
     "iopub.status.busy": "2022-10-28T20:07:06.741167Z",
     "iopub.status.idle": "2022-10-28T20:07:06.920403Z",
     "shell.execute_reply": "2022-10-28T20:07:06.919823Z",
     "shell.execute_reply.started": "2022-10-28T20:07:06.741573Z"
    },
    "tags": []
   },
   "outputs": [
    {
     "name": "stdout",
     "output_type": "stream",
     "text": [
      "<Response [404]>\n"
     ]
    },
    {
     "data": {
      "text/plain": [
       "{'message': 'Model not found'}"
      ]
     },
     "execution_count": 14,
     "metadata": {},
     "output_type": "execute_result"
    }
   ],
   "source": [
    "X, y = make_classification(n_samples=5_000, random_state=43)\n",
    "\n",
    "\n",
    "r = requests.post(\n",
    "    \"http://localhost:8866/model_retrain\",\n",
    "    json={\n",
    "        \"data\": pd.DataFrame(X).to_dict(\"records\"),\n",
    "        \"target\": list([int(x) for x in y]),\n",
    "        \"model_name\": \"asd\",\n",
    "    },\n",
    ")\n",
    "print(r)\n",
    "r.json()"
   ]
  },
  {
   "cell_type": "code",
   "execution_count": 15,
   "id": "a30c09c5-4f15-443d-8b15-f1115bfcefee",
   "metadata": {
    "execution": {
     "iopub.execute_input": "2022-10-28T20:07:06.921630Z",
     "iopub.status.busy": "2022-10-28T20:07:06.921198Z",
     "iopub.status.idle": "2022-10-28T20:07:06.931671Z",
     "shell.execute_reply": "2022-10-28T20:07:06.931126Z",
     "shell.execute_reply.started": "2022-10-28T20:07:06.921611Z"
    },
    "tags": []
   },
   "outputs": [
    {
     "name": "stdout",
     "output_type": "stream",
     "text": [
      "<Response [404]>\n"
     ]
    },
    {
     "data": {
      "text/plain": [
       "{'message': 'Model not found'}"
      ]
     },
     "execution_count": 15,
     "metadata": {},
     "output_type": "execute_result"
    }
   ],
   "source": [
    "r = requests.get(\n",
    "    \"http://localhost:8866/model\",\n",
    "    json={\n",
    "        \"data\": pd.DataFrame(X).head(10).to_dict(\"records\"),\n",
    "        \"model_name\": \"asd\",\n",
    "    },\n",
    ")\n",
    "print(r)\n",
    "r.json()"
   ]
  },
  {
   "cell_type": "code",
   "execution_count": null,
   "id": "e5b7f46b-ba67-438d-9a66-b190be94a7e3",
   "metadata": {},
   "outputs": [],
   "source": []
  }
 ],
 "metadata": {
  "kernelspec": {
   "display_name": "Python 3.10 masha",
   "language": "python",
   "name": "venv3.10-masha"
  },
  "language_info": {
   "codemirror_mode": {
    "name": "ipython",
    "version": 3
   },
   "file_extension": ".py",
   "mimetype": "text/x-python",
   "name": "python",
   "nbconvert_exporter": "python",
   "pygments_lexer": "ipython3",
   "version": "3.10.8"
  }
 },
 "nbformat": 4,
 "nbformat_minor": 5
}
