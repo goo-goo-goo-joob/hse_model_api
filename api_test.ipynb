{
 "cells": [
  {
   "cell_type": "markdown",
   "id": "a547feed-6b95-4aee-af22-dd9e46747179",
   "metadata": {},
   "source": [
    "# Демо работы API"
   ]
  },
  {
   "cell_type": "code",
   "execution_count": 1,
   "id": "06887d7a-d250-406f-8355-06384f6e7994",
   "metadata": {
    "execution": {
     "iopub.execute_input": "2022-10-19T23:06:52.346512Z",
     "iopub.status.busy": "2022-10-19T23:06:52.346236Z",
     "iopub.status.idle": "2022-10-19T23:06:53.071129Z",
     "shell.execute_reply": "2022-10-19T23:06:53.070493Z",
     "shell.execute_reply.started": "2022-10-19T23:06:52.346451Z"
    },
    "tags": []
   },
   "outputs": [],
   "source": [
    "import pandas as pd\n",
    "import requests\n",
    "from sklearn.datasets import make_classification, make_regression"
   ]
  },
  {
   "cell_type": "markdown",
   "id": "cec3f6ca-2576-493a-9417-230397489193",
   "metadata": {},
   "source": [
    "## GET model_list"
   ]
  },
  {
   "cell_type": "code",
   "execution_count": 2,
   "id": "0de654ef-2db5-402d-814e-984c410ae590",
   "metadata": {
    "execution": {
     "iopub.execute_input": "2022-10-19T23:06:53.072669Z",
     "iopub.status.busy": "2022-10-19T23:06:53.072121Z",
     "iopub.status.idle": "2022-10-19T23:06:53.086912Z",
     "shell.execute_reply": "2022-10-19T23:06:53.086334Z",
     "shell.execute_reply.started": "2022-10-19T23:06:53.072644Z"
    },
    "tags": []
   },
   "outputs": [
    {
     "name": "stdout",
     "output_type": "stream",
     "text": [
      "<Response [200]>\n"
     ]
    },
    {
     "data": {
      "text/plain": [
       "{'types': ['catboost_classifier', 'catboost_regressor']}"
      ]
     },
     "execution_count": 2,
     "metadata": {},
     "output_type": "execute_result"
    }
   ],
   "source": [
    "r = requests.get(\n",
    "    \"http://localhost:8866/model_list\",\n",
    ")\n",
    "print(r)\n",
    "r.json()"
   ]
  },
  {
   "cell_type": "markdown",
   "id": "7a31a86b-952d-484e-99f2-6d47097fb094",
   "metadata": {},
   "source": [
    "## POST main"
   ]
  },
  {
   "cell_type": "code",
   "execution_count": 3,
   "id": "eddd78e0-4ba7-4982-a0f2-8b9fc21e41b2",
   "metadata": {
    "execution": {
     "iopub.execute_input": "2022-10-19T23:06:53.088039Z",
     "iopub.status.busy": "2022-10-19T23:06:53.087749Z",
     "iopub.status.idle": "2022-10-19T23:06:53.844358Z",
     "shell.execute_reply": "2022-10-19T23:06:53.843731Z",
     "shell.execute_reply.started": "2022-10-19T23:06:53.088018Z"
    },
    "tags": []
   },
   "outputs": [
    {
     "name": "stdout",
     "output_type": "stream",
     "text": [
      "<Response [200]>\n"
     ]
    },
    {
     "data": {
      "text/plain": [
       "{'model_name': '5faf13fc-f63c-4ed1-9fde-c1aaeaa06f4a'}"
      ]
     },
     "execution_count": 3,
     "metadata": {},
     "output_type": "execute_result"
    }
   ],
   "source": [
    "X, y = make_classification(n_samples=10_000, random_state=42)\n",
    "\n",
    "r = requests.post(\n",
    "    \"http://localhost:8866/main\",\n",
    "    json={\n",
    "        \"data\": pd.DataFrame(X).to_dict(\"records\"),\n",
    "        \"target\": list([int(x) for x in y]),\n",
    "        \"model_type\": \"catboost_classifier\",\n",
    "        \"params\": {\"iterations\": 100, \"max_depth\": 3, \"random_state\": 42},\n",
    "    },\n",
    ")\n",
    "print(r)\n",
    "r.json()"
   ]
  },
  {
   "cell_type": "code",
   "execution_count": 4,
   "id": "7941f9a5-11a4-4d6a-95f5-54f360fdf593",
   "metadata": {
    "execution": {
     "iopub.execute_input": "2022-10-19T23:06:53.846425Z",
     "iopub.status.busy": "2022-10-19T23:06:53.846092Z",
     "iopub.status.idle": "2022-10-19T23:06:53.849700Z",
     "shell.execute_reply": "2022-10-19T23:06:53.849131Z",
     "shell.execute_reply.started": "2022-10-19T23:06:53.846402Z"
    }
   },
   "outputs": [],
   "source": [
    "model_name_clf = r.json()['model_name']"
   ]
  },
  {
   "cell_type": "markdown",
   "id": "69d95b1e-f9b2-4962-ad1f-38b1c7d132e5",
   "metadata": {},
   "source": [
    "## GET main"
   ]
  },
  {
   "cell_type": "code",
   "execution_count": 5,
   "id": "5e95ba14-60bf-4257-9b72-ecee2addeae6",
   "metadata": {
    "execution": {
     "iopub.execute_input": "2022-10-19T23:06:53.850932Z",
     "iopub.status.busy": "2022-10-19T23:06:53.850515Z",
     "iopub.status.idle": "2022-10-19T23:06:53.866533Z",
     "shell.execute_reply": "2022-10-19T23:06:53.865936Z",
     "shell.execute_reply.started": "2022-10-19T23:06:53.850910Z"
    },
    "tags": []
   },
   "outputs": [
    {
     "name": "stdout",
     "output_type": "stream",
     "text": [
      "<Response [200]>\n"
     ]
    },
    {
     "data": {
      "text/plain": [
       "{'predict': [0.5638337834555013,\n",
       "  0.7942055810014027,\n",
       "  0.8756234070657894,\n",
       "  0.010590774615283504,\n",
       "  0.957467896504792,\n",
       "  0.8979103310563701,\n",
       "  0.9204750053600032,\n",
       "  0.11278030491557361,\n",
       "  0.8916455404417145,\n",
       "  0.9871980350210195]}"
      ]
     },
     "execution_count": 5,
     "metadata": {},
     "output_type": "execute_result"
    }
   ],
   "source": [
    "r = requests.get(\n",
    "    \"http://localhost:8866/main\",\n",
    "    json={\n",
    "        \"data\": pd.DataFrame(X).head(10).to_dict(\"records\"),\n",
    "        \"model_name\": model_name_clf,\n",
    "    },\n",
    ")\n",
    "print(r)\n",
    "r.json()"
   ]
  },
  {
   "cell_type": "markdown",
   "id": "1c8d0597-fffe-4c0f-b16c-4f17fed6c725",
   "metadata": {},
   "source": [
    "## POST model_retrain"
   ]
  },
  {
   "cell_type": "code",
   "execution_count": 6,
   "id": "4821db6c-113e-48cd-9649-266550d1db7e",
   "metadata": {
    "execution": {
     "iopub.execute_input": "2022-10-19T23:06:53.867735Z",
     "iopub.status.busy": "2022-10-19T23:06:53.867319Z",
     "iopub.status.idle": "2022-10-19T23:06:54.306350Z",
     "shell.execute_reply": "2022-10-19T23:06:54.305641Z",
     "shell.execute_reply.started": "2022-10-19T23:06:53.867715Z"
    },
    "tags": []
   },
   "outputs": [
    {
     "name": "stdout",
     "output_type": "stream",
     "text": [
      "<Response [200]>\n"
     ]
    },
    {
     "data": {
      "text/plain": [
       "{'model_name': '8fbba29f-ae4d-4760-9d40-fea39c75d32c'}"
      ]
     },
     "execution_count": 6,
     "metadata": {},
     "output_type": "execute_result"
    }
   ],
   "source": [
    "X, y = make_classification(n_samples=5_000, random_state=43)\n",
    "\n",
    "\n",
    "r = requests.post(\n",
    "    \"http://localhost:8866/model_retrain\",\n",
    "    json={\n",
    "        \"data\": pd.DataFrame(X).to_dict(\"records\"),\n",
    "        \"target\": list([int(x) for x in y]),\n",
    "        \"model_name\": model_name_clf,\n",
    "    },\n",
    ")\n",
    "print(r)\n",
    "r.json()"
   ]
  },
  {
   "cell_type": "markdown",
   "id": "89e17c99-12ea-459f-9785-ccc3ffc5eff3",
   "metadata": {},
   "source": [
    "## GET main"
   ]
  },
  {
   "cell_type": "code",
   "execution_count": 7,
   "id": "021e73fd-21a5-4ada-ac59-797f937922e3",
   "metadata": {
    "execution": {
     "iopub.execute_input": "2022-10-19T23:06:54.307716Z",
     "iopub.status.busy": "2022-10-19T23:06:54.307415Z",
     "iopub.status.idle": "2022-10-19T23:06:54.322214Z",
     "shell.execute_reply": "2022-10-19T23:06:54.321395Z",
     "shell.execute_reply.started": "2022-10-19T23:06:54.307695Z"
    },
    "tags": []
   },
   "outputs": [
    {
     "name": "stdout",
     "output_type": "stream",
     "text": [
      "<Response [200]>\n"
     ]
    },
    {
     "data": {
      "text/plain": [
       "{'predict': [0.0074069885804417465,\n",
       "  0.9902074972312818,\n",
       "  0.9865085968106112,\n",
       "  0.5125241196563936,\n",
       "  0.024061459554407576,\n",
       "  0.01155327665721344,\n",
       "  0.007397251107158578,\n",
       "  0.4869501346169755,\n",
       "  0.993289625687321,\n",
       "  0.9918183725446968]}"
      ]
     },
     "execution_count": 7,
     "metadata": {},
     "output_type": "execute_result"
    }
   ],
   "source": [
    "r = requests.get(\n",
    "    \"http://localhost:8866/main\",\n",
    "    json={\n",
    "        \"data\": pd.DataFrame(X).head(10).to_dict(\"records\"),\n",
    "        \"model_name\": r.json()['model_name'],\n",
    "    },\n",
    ")\n",
    "print(r)\n",
    "r.json()"
   ]
  },
  {
   "cell_type": "markdown",
   "id": "4ab4e818-2387-4e2d-8a4d-ffcdf79d921e",
   "metadata": {},
   "source": [
    "## POST main for catboost_regressor"
   ]
  },
  {
   "cell_type": "code",
   "execution_count": 8,
   "id": "843a31eb-90f6-46ef-bdb6-25ffaa8ea4e5",
   "metadata": {
    "execution": {
     "iopub.execute_input": "2022-10-19T23:06:54.323400Z",
     "iopub.status.busy": "2022-10-19T23:06:54.323149Z",
     "iopub.status.idle": "2022-10-19T23:06:55.688367Z",
     "shell.execute_reply": "2022-10-19T23:06:55.687575Z",
     "shell.execute_reply.started": "2022-10-19T23:06:54.323380Z"
    },
    "tags": []
   },
   "outputs": [
    {
     "name": "stdout",
     "output_type": "stream",
     "text": [
      "<Response [200]>\n"
     ]
    },
    {
     "data": {
      "text/plain": [
       "{'model_name': '14d9ddbb-6a5c-4a8f-8338-76b21d010bef'}"
      ]
     },
     "execution_count": 8,
     "metadata": {},
     "output_type": "execute_result"
    }
   ],
   "source": [
    "X, y = make_regression(n_samples=5_000, random_state=42)\n",
    "\n",
    "\n",
    "r = requests.post(\n",
    "    \"http://localhost:8866/main\",\n",
    "    json={\n",
    "        \"data\": pd.DataFrame(X).to_dict(\"records\"),\n",
    "        \"target\": list(y),\n",
    "        \"model_type\": \"catboost_regressor\",\n",
    "        \"params\": {\"iterations\": 100, \"max_depth\": 3, \"random_state\": 42},\n",
    "    },\n",
    ")\n",
    "print(r)\n",
    "r.json()"
   ]
  },
  {
   "cell_type": "markdown",
   "id": "4667d6b6-cfcd-4465-976a-8b0ecc59f833",
   "metadata": {},
   "source": [
    "## GET main"
   ]
  },
  {
   "cell_type": "code",
   "execution_count": 9,
   "id": "79ca21df-85da-40a7-b725-607293cf22af",
   "metadata": {
    "execution": {
     "iopub.execute_input": "2022-10-19T23:06:55.689943Z",
     "iopub.status.busy": "2022-10-19T23:06:55.689294Z",
     "iopub.status.idle": "2022-10-19T23:06:55.734490Z",
     "shell.execute_reply": "2022-10-19T23:06:55.733649Z",
     "shell.execute_reply.started": "2022-10-19T23:06:55.689910Z"
    },
    "tags": []
   },
   "outputs": [
    {
     "name": "stdout",
     "output_type": "stream",
     "text": [
      "<Response [200]>\n"
     ]
    },
    {
     "data": {
      "text/plain": [
       "{'predict': [-142.06786398305186,\n",
       "  -49.289922812160306,\n",
       "  -346.27782463449324,\n",
       "  -40.64367662731922,\n",
       "  195.41391581749133,\n",
       "  42.31481775721362,\n",
       "  152.01133779221294,\n",
       "  148.03790039153625,\n",
       "  154.25315992034916,\n",
       "  -106.3438026762773]}"
      ]
     },
     "execution_count": 9,
     "metadata": {},
     "output_type": "execute_result"
    }
   ],
   "source": [
    "r = requests.get(\n",
    "    \"http://localhost:8866/main\",\n",
    "    json={\n",
    "        \"data\": pd.DataFrame(X).head(10).to_dict(\"records\"),\n",
    "        \"model_name\": r.json()['model_name'],\n",
    "    },\n",
    ")\n",
    "print(r)\n",
    "r.json()"
   ]
  },
  {
   "cell_type": "markdown",
   "id": "5ec06aa4-86f6-44c5-8973-96c2dfe2c95e",
   "metadata": {},
   "source": [
    "## GET model_instances"
   ]
  },
  {
   "cell_type": "code",
   "execution_count": 10,
   "id": "78f3955b-79e2-4b06-9156-b8c5986b0788",
   "metadata": {
    "execution": {
     "iopub.execute_input": "2022-10-19T23:06:55.736108Z",
     "iopub.status.busy": "2022-10-19T23:06:55.735788Z",
     "iopub.status.idle": "2022-10-19T23:06:55.756733Z",
     "shell.execute_reply": "2022-10-19T23:06:55.755865Z",
     "shell.execute_reply.started": "2022-10-19T23:06:55.736076Z"
    },
    "tags": []
   },
   "outputs": [
    {
     "name": "stdout",
     "output_type": "stream",
     "text": [
      "<Response [200]>\n"
     ]
    },
    {
     "data": {
      "text/plain": [
       "{'instances': [{'id': '5faf13fc-f63c-4ed1-9fde-c1aaeaa06f4a',\n",
       "   'type': 'catboost_classifier',\n",
       "   'params': \"{'iterations': 100, 'max_depth': 3, 'random_state': 42}\"},\n",
       "  {'id': '8fbba29f-ae4d-4760-9d40-fea39c75d32c',\n",
       "   'type': 'catboost_classifier',\n",
       "   'params': \"{'iterations': 100, 'max_depth': 3, 'random_state': 42}\"},\n",
       "  {'id': '14d9ddbb-6a5c-4a8f-8338-76b21d010bef',\n",
       "   'type': 'catboost_regressor',\n",
       "   'params': \"{'iterations': 100, 'max_depth': 3, 'random_state': 42}\"}]}"
      ]
     },
     "execution_count": 10,
     "metadata": {},
     "output_type": "execute_result"
    }
   ],
   "source": [
    "r = requests.get(\n",
    "    \"http://localhost:8866/model_instances\",\n",
    ")\n",
    "print(r)\n",
    "r.json()"
   ]
  },
  {
   "cell_type": "markdown",
   "id": "bef289d2-8b48-4e68-a82b-75c1fa696efd",
   "metadata": {},
   "source": [
    "## DELETE main"
   ]
  },
  {
   "cell_type": "code",
   "execution_count": 11,
   "id": "a01aa42b-b542-44b0-9770-6216a7c29880",
   "metadata": {
    "execution": {
     "iopub.execute_input": "2022-10-19T23:06:55.758415Z",
     "iopub.status.busy": "2022-10-19T23:06:55.758081Z",
     "iopub.status.idle": "2022-10-19T23:06:55.775911Z",
     "shell.execute_reply": "2022-10-19T23:06:55.775171Z",
     "shell.execute_reply.started": "2022-10-19T23:06:55.758385Z"
    },
    "tags": []
   },
   "outputs": [
    {
     "name": "stdout",
     "output_type": "stream",
     "text": [
      "<Response [204]>\n"
     ]
    }
   ],
   "source": [
    "r = requests.delete(\n",
    "    \"http://localhost:8866/main\",\n",
    "    json={\n",
    "        \"model_name\": model_name_clf,\n",
    "    },\n",
    ")\n",
    "print(r)"
   ]
  },
  {
   "cell_type": "markdown",
   "id": "e3e7df98-2f11-4a9d-936e-67c1a81d7bf4",
   "metadata": {},
   "source": [
    "## GET model_instances"
   ]
  },
  {
   "cell_type": "code",
   "execution_count": 12,
   "id": "34c09960-9b85-41eb-98ae-ee3a664ffd8b",
   "metadata": {
    "execution": {
     "iopub.execute_input": "2022-10-19T23:06:55.777365Z",
     "iopub.status.busy": "2022-10-19T23:06:55.776927Z",
     "iopub.status.idle": "2022-10-19T23:06:55.788597Z",
     "shell.execute_reply": "2022-10-19T23:06:55.787843Z",
     "shell.execute_reply.started": "2022-10-19T23:06:55.777332Z"
    },
    "tags": []
   },
   "outputs": [
    {
     "name": "stdout",
     "output_type": "stream",
     "text": [
      "<Response [200]>\n"
     ]
    },
    {
     "data": {
      "text/plain": [
       "{'instances': [{'id': '8fbba29f-ae4d-4760-9d40-fea39c75d32c',\n",
       "   'type': 'catboost_classifier',\n",
       "   'params': \"{'iterations': 100, 'max_depth': 3, 'random_state': 42}\"},\n",
       "  {'id': '14d9ddbb-6a5c-4a8f-8338-76b21d010bef',\n",
       "   'type': 'catboost_regressor',\n",
       "   'params': \"{'iterations': 100, 'max_depth': 3, 'random_state': 42}\"}]}"
      ]
     },
     "execution_count": 12,
     "metadata": {},
     "output_type": "execute_result"
    }
   ],
   "source": [
    "r = requests.get(\n",
    "    \"http://localhost:8866/model_instances\",\n",
    ")\n",
    "print(r)\n",
    "r.json()"
   ]
  },
  {
   "cell_type": "code",
   "execution_count": null,
   "id": "b5fabe33-e06c-465d-a3f1-bf2022e33b77",
   "metadata": {},
   "outputs": [],
   "source": []
  }
 ],
 "metadata": {
  "kernelspec": {
   "display_name": "Python 3.10 masha",
   "language": "python",
   "name": "venv3.10-masha"
  },
  "language_info": {
   "codemirror_mode": {
    "name": "ipython",
    "version": 3
   },
   "file_extension": ".py",
   "mimetype": "text/x-python",
   "name": "python",
   "nbconvert_exporter": "python",
   "pygments_lexer": "ipython3",
   "version": "3.10.8"
  }
 },
 "nbformat": 4,
 "nbformat_minor": 5
}
